{
 "cells": [
  {
   "cell_type": "code",
   "execution_count": 1,
   "metadata": {},
   "outputs": [
    {
     "name": "stderr",
     "output_type": "stream",
     "text": [
      "C:\\Users\\petert6\\Anaconda3\\lib\\site-packages\\tensorboard\\compat\\tensorflow_stub\\dtypes.py:541: FutureWarning: Passing (type, 1) or '1type' as a synonym of type is deprecated; in a future version of numpy, it will be understood as (type, (1,)) / '(1,)type'.\n",
      "  _np_qint8 = np.dtype([(\"qint8\", np.int8, 1)])\n",
      "C:\\Users\\petert6\\Anaconda3\\lib\\site-packages\\tensorboard\\compat\\tensorflow_stub\\dtypes.py:542: FutureWarning: Passing (type, 1) or '1type' as a synonym of type is deprecated; in a future version of numpy, it will be understood as (type, (1,)) / '(1,)type'.\n",
      "  _np_quint8 = np.dtype([(\"quint8\", np.uint8, 1)])\n",
      "C:\\Users\\petert6\\Anaconda3\\lib\\site-packages\\tensorboard\\compat\\tensorflow_stub\\dtypes.py:543: FutureWarning: Passing (type, 1) or '1type' as a synonym of type is deprecated; in a future version of numpy, it will be understood as (type, (1,)) / '(1,)type'.\n",
      "  _np_qint16 = np.dtype([(\"qint16\", np.int16, 1)])\n",
      "C:\\Users\\petert6\\Anaconda3\\lib\\site-packages\\tensorboard\\compat\\tensorflow_stub\\dtypes.py:544: FutureWarning: Passing (type, 1) or '1type' as a synonym of type is deprecated; in a future version of numpy, it will be understood as (type, (1,)) / '(1,)type'.\n",
      "  _np_quint16 = np.dtype([(\"quint16\", np.uint16, 1)])\n",
      "C:\\Users\\petert6\\Anaconda3\\lib\\site-packages\\tensorboard\\compat\\tensorflow_stub\\dtypes.py:545: FutureWarning: Passing (type, 1) or '1type' as a synonym of type is deprecated; in a future version of numpy, it will be understood as (type, (1,)) / '(1,)type'.\n",
      "  _np_qint32 = np.dtype([(\"qint32\", np.int32, 1)])\n",
      "C:\\Users\\petert6\\Anaconda3\\lib\\site-packages\\tensorboard\\compat\\tensorflow_stub\\dtypes.py:550: FutureWarning: Passing (type, 1) or '1type' as a synonym of type is deprecated; in a future version of numpy, it will be understood as (type, (1,)) / '(1,)type'.\n",
      "  np_resource = np.dtype([(\"resource\", np.ubyte, 1)])\n"
     ]
    }
   ],
   "source": [
    "#!pip3 install --upgrade pip.\n",
    "#!pip3 install --upgrade tensorflow.\n",
    "from tensorflow.keras.preprocessing.sequence import pad_sequences\n",
    "from tensorflow.keras.layers import Embedding, LSTM, Dense, Dropout, Bidirectional, SimpleRNN\n",
    "from tensorflow.keras.preprocessing.text import Tokenizer\n",
    "from tensorflow.keras.models import Sequential\n",
    "from tensorflow.keras.optimizers import Adam\n",
    "from tensorflow.keras import regularizers\n",
    "import tensorflow.keras.utils \n",
    "import tensorflow as tf\n",
    "import pandas as pd\n",
    "import numpy as np\n",
    "import matplotlib.pyplot as plt"
   ]
  },
  {
   "cell_type": "code",
   "execution_count": 2,
   "metadata": {},
   "outputs": [
    {
     "data": {
      "text/plain": [
       "'\\nFor this project I wanted to try and work with text data. Mostly because this kind of data would have no relation to any \\nkind of numerical statistics or classification and I would really like to see just how a ML model could exactly work\\nwith this kind of data. After doing some research, a text generation model utilizing the complex verses from \\nShakespeare seems to be a popular dataset to use for this kind of problem. So I will be using another Kaggle dataset\\nto try and create an RNN model that can analyze and predict the next word(s) that would appear in a sentence written in\\nshakesperean dialect. The framework wil lconsist of the tesnorflow package seeing as how that package can make a model \\nutilizing RNN, LSTM, and GRU layers.\\n\\nhttps://www.tensorflow.org/guide/keras/rnn\\n\\nhttps://www.tensorflow.org/text/tutorials/text_generation\\n\\nhttps://www.tensorflow.org/text/tutorials/text_classification_rnn\\n\\nhttps://github.com/AdalbertoCq/Deep-Learning-Specialization-Coursera/tree/master/Sequence%20Models/week1/Character-level%20language%20model\\n\\nhttp://karpathy.github.io/2015/05/21/rnn-effectiveness/\\n\\nhttps://www.marktechpost.com/2021/04/01/generating-your-shakespeare-text-using-sequential-models-such-as-long-short-term-memory-lstms-gated-recurrent-units-grus-recurrent-neural-network-rnns/\\n\\nhttps://www.kaggle.com/kutaykutlu/text-generation-guide-tensorflow-nlp-lstm\\n\\nhttps://www.analyticsvidhya.com/blog/2019/01/fundamentals-deep-learning-recurrent-neural-networks-scratch-python/\\n\\nhttps://medium.com/@annikabrundyn1/the-beginners-guide-to-recurrent-neural-networks-and-text-generation-44a70c34067f\\n\\nhttps://www.section.io/engineering-education/text-generation-nn/\\n\\nhttps://hub.packtpub.com/auto-generate-texts-shakespeare-writing-using-deep-recurrent-neural-networks/\\n\\nhttps://keras.io/guides/working_with_rnns/\\n'"
      ]
     },
     "execution_count": 2,
     "metadata": {},
     "output_type": "execute_result"
    }
   ],
   "source": [
    "'''\n",
    "For this project I wanted to try and work with text data. Mostly because this kind of data would have no relation to any \n",
    "kind of numerical statistics or classification and I would really like to see just how a ML model could exactly work\n",
    "with this kind of data. After doing some research, a text generation model utilizing the complex verses from \n",
    "Shakespeare seems to be a popular dataset to use for this kind of problem. So I will be using another Kaggle dataset\n",
    "to try and create an RNN model that can analyze and predict the next word(s) that would appear in a sentence written in\n",
    "shakesperean dialect. The framework wil lconsist of the tesnorflow package seeing as how that package can make a model \n",
    "utilizing RNN, LSTM, and GRU layers.\n",
    "\n",
    "https://www.tensorflow.org/guide/keras/rnn\n",
    "\n",
    "https://www.tensorflow.org/text/tutorials/text_generation\n",
    "\n",
    "https://www.tensorflow.org/text/tutorials/text_classification_rnn\n",
    "\n",
    "https://github.com/AdalbertoCq/Deep-Learning-Specialization-Coursera/tree/master/Sequence%20Models/week1/Character-level%20language%20model\n",
    "\n",
    "http://karpathy.github.io/2015/05/21/rnn-effectiveness/\n",
    "\n",
    "https://www.marktechpost.com/2021/04/01/generating-your-shakespeare-text-using-sequential-models-such-as-long-short-term-memory-lstms-gated-recurrent-units-grus-recurrent-neural-network-rnns/\n",
    "\n",
    "https://www.kaggle.com/kutaykutlu/text-generation-guide-tensorflow-nlp-lstm\n",
    "\n",
    "https://www.analyticsvidhya.com/blog/2019/01/fundamentals-deep-learning-recurrent-neural-networks-scratch-python/\n",
    "\n",
    "https://medium.com/@annikabrundyn1/the-beginners-guide-to-recurrent-neural-networks-and-text-generation-44a70c34067f\n",
    "\n",
    "https://www.section.io/engineering-education/text-generation-nn/\n",
    "\n",
    "https://hub.packtpub.com/auto-generate-texts-shakespeare-writing-using-deep-recurrent-neural-networks/\n",
    "\n",
    "https://keras.io/guides/working_with_rnns/\n",
    "'''"
   ]
  },
  {
   "cell_type": "code",
   "execution_count": 3,
   "metadata": {},
   "outputs": [
    {
     "name": "stdout",
     "output_type": "stream",
     "text": [
      "4583798\n",
      "78\n"
     ]
    }
   ],
   "source": [
    "text = open('shakespeare.txt', 'rb').read().decode(encoding='utf-8')\n",
    "print(len(text))\n",
    "# The unique characters in the file\n",
    "vocab = sorted(list(set(text)))\n",
    "print(len(vocab))"
   ]
  },
  {
   "cell_type": "code",
   "execution_count": 4,
   "metadata": {},
   "outputs": [
    {
     "name": "stdout",
     "output_type": "stream",
     "text": [
      "Dev data\n",
      "number of training examples: 3330\n",
      "Training data\n",
      "number of training examples: 9997\n",
      "Test data\n",
      "number of training examples: 3330\n"
     ]
    }
   ],
   "source": [
    "'''\n",
    "In this group of code I am building the datasets to be trained and examined in this HW. Howver, since it usually took\n",
    "a really long time to try and compute even 1,000,000 words I decided to only use a small amount of the data for the \n",
    "RNN and LSTM model\n",
    "'''\n",
    "\n",
    "\n",
    "char_indices = {c:i for i, c in enumerate(vocab)}\n",
    "indices_char = {i:c for i, c in enumerate(vocab)}\n",
    "\n",
    "\n",
    "\n",
    "def build_data(text, Tx = 10, stride = 3):  \n",
    "    X = []\n",
    "    Y = []\n",
    "    for i in range(0, len(text) - Tx, stride):\n",
    "        X.append(text[i: i + Tx])\n",
    "        Y.append(text[i + Tx]) \n",
    "    print('number of training examples:', len(X))\n",
    "    return X, Y\n",
    "\n",
    "\n",
    "\n",
    "print(\"Dev data\")\n",
    "X_dev,Y_dev = build_data(text[:10000])\n",
    "print(\"Training data\")\n",
    "X_train, Y_train = build_data(text[10000:40000])\n",
    "print(\"Test data\")\n",
    "X_test, Y_test = build_data(text[40000:50000])\n",
    "\n",
    "    \n"
   ]
  },
  {
   "cell_type": "code",
   "execution_count": 5,
   "metadata": {},
   "outputs": [],
   "source": [
    "'''\n",
    "Here we vectorize all of the datasets so that the Sequential models and their layers will be able to perform\n",
    "their training and evaluations\n",
    "'''\n",
    "\n",
    "def vectorization(X, Y, n_x, char_indices, Tx = 10):\n",
    "    m = len(X)\n",
    "    x = np.zeros((m, Tx, n_x), dtype=np.bool)\n",
    "    y = np.zeros((m, n_x), dtype=np.bool)\n",
    "    for i, sentence in enumerate(X):\n",
    "        for t, char in enumerate(sentence):\n",
    "            x[i, t, char_indices[char]] = 1\n",
    "        y[i, char_indices[Y[i]]] = 1    \n",
    "    return x, y \n",
    "\n",
    "\n",
    "x_train,y_train = vectorization(X_train,Y_train,len(vocab),char_indices,Tx=10)\n",
    "x_test,y_test = vectorization(X_test,Y_test,len(vocab),char_indices,Tx=10)\n",
    "x_dev,y_dev = vectorization(X_dev,Y_dev,len(vocab),char_indices,Tx=10)"
   ]
  },
  {
   "cell_type": "code",
   "execution_count": 6,
   "metadata": {},
   "outputs": [
    {
     "name": "stdout",
     "output_type": "stream",
     "text": [
      "Model: \"sequential\"\n",
      "_________________________________________________________________\n",
      "Layer (type)                 Output Shape              Param #   \n",
      "=================================================================\n",
      "simple_rnn (SimpleRNN)       (None, 10, 256)           85760     \n",
      "_________________________________________________________________\n",
      "simple_rnn_1 (SimpleRNN)     (None, 256)               131328    \n",
      "_________________________________________________________________\n",
      "dense (Dense)                (None, 128)               32896     \n",
      "_________________________________________________________________\n",
      "dense_1 (Dense)              (None, 128)               16512     \n",
      "_________________________________________________________________\n",
      "dense_2 (Dense)              (None, 78)                10062     \n",
      "=================================================================\n",
      "Total params: 276,558\n",
      "Trainable params: 276,558\n",
      "Non-trainable params: 0\n",
      "_________________________________________________________________\n"
     ]
    }
   ],
   "source": [
    "# https://www.tensorflow.org/api_docs/python/tf/keras/layers/SimpleRNN\n",
    "'''\n",
    "This is where we make the regular RNN model. Thanks to the tensorflow framework I don't need to hardcode the entire \n",
    "structure of the model. I can make an entire RNN model from these simple lines of code for not only the regular RNN but also\n",
    "LSTM, GRU, etc.\n",
    "\n",
    "Most of the examples I saw online used one RNN layer as the starting input layer and then continued creating the \n",
    "network using Dense layers so I figured I would do the same. All of the layers up to the final output layer use the \n",
    "relu activation function, since this is still a deep learning model, and then I use a softmax activation function for the \n",
    "output layer. Once that is done I then use the 'compile' function of the Sequential model to build it for training. The \n",
    "'compile' function even has arguments to create the optimizer and loss functions so for those I use the categorical\n",
    "crossentropy function to go with the output layer's softmax function while also performing the cross-entropy loss function\n",
    "on the data, and I also use the 'adam' optimizer since I have used that one throughout my previous homeworks. To finish \n",
    "off on the compiling I also make sure that the metrics being evaluated throught the training is the 'accuracy'\n",
    "\n",
    "'''\n",
    "\n",
    "\n",
    "model = Sequential()\n",
    "model.add(SimpleRNN(units=256, input_shape=(10,len(vocab)), activation=\"relu\",return_sequences=True))\n",
    "\n",
    "model.add(SimpleRNN(256))\n",
    "model.add(Dense(128,activation='relu'))\n",
    "model.add(Dense(128,activation='relu'))\n",
    "model.add(Dense(len(vocab), activation='softmax'))\n",
    "\n",
    "model.compile(loss='categorical_crossentropy', optimizer='adam', metrics=['accuracy'])\n",
    "model.summary()\n",
    "\n",
    "\n"
   ]
  },
  {
   "cell_type": "code",
   "execution_count": 7,
   "metadata": {},
   "outputs": [
    {
     "name": "stdout",
     "output_type": "stream",
     "text": [
      "Train on 9997 samples\n",
      "Epoch 1/30\n",
      "9997/9997 [==============================] - 8s 828us/sample - loss: 2.9694 - accuracy: 0.2117\n",
      "Epoch 2/30\n",
      "9997/9997 [==============================] - 6s 609us/sample - loss: 2.4306 - accuracy: 0.3187\n",
      "Epoch 3/30\n",
      "9997/9997 [==============================] - 5s 508us/sample - loss: 2.2454 - accuracy: 0.3636\n",
      "Epoch 4/30\n",
      "9997/9997 [==============================] - 7s 697us/sample - loss: 2.1123 - accuracy: 0.3895\n",
      "Epoch 5/30\n",
      "9997/9997 [==============================] - 6s 556us/sample - loss: 1.9886 - accuracy: 0.4155\n",
      "Epoch 6/30\n",
      "9997/9997 [==============================] - 5s 530us/sample - loss: 1.8819 - accuracy: 0.4481 - loss: 1.8764 - accu\n",
      "Epoch 7/30\n",
      "9997/9997 [==============================] - 5s 533us/sample - loss: 1.7579 - accuracy: 0.4738\n",
      "Epoch 8/30\n",
      "9997/9997 [==============================] - 5s 524us/sample - loss: 1.6408 - accuracy: 0.4989 - loss: 1.6328 - accuracy: 0.49 - ETA: 0s - loss: 1.6329 - \n",
      "Epoch 9/30\n",
      "9997/9997 [==============================] - 6s 571us/sample - loss: 1.5147 - accuracy: 0.5360\n",
      "Epoch 10/30\n",
      "9997/9997 [==============================] - 5s 548us/sample - loss: 1.3813 - accuracy: 0.5686\n",
      "Epoch 11/30\n",
      "9997/9997 [==============================] - 6s 591us/sample - loss: 1.2506 - accuracy: 0.6058\n",
      "Epoch 12/30\n",
      "9997/9997 [==============================] - 6s 609us/sample - loss: 1.1047 - accuracy: 0.6481\n",
      "Epoch 13/30\n",
      "9997/9997 [==============================] - 5s 523us/sample - loss: 0.9979 - accuracy: 0.6837TA: 1s - loss: 0.9366 \n",
      "Epoch 14/30\n",
      "9997/9997 [==============================] - 6s 570us/sample - loss: 0.8799 - accuracy: 0.7204\n",
      "Epoch 15/30\n",
      "9997/9997 [==============================] - 5s 534us/sample - loss: 0.7573 - accuracy: 0.7512\n",
      "Epoch 16/30\n",
      "9997/9997 [==============================] - 5s 504us/sample - loss: 0.6815 - accuracy: 0.7778\n",
      "Epoch 17/30\n",
      "9997/9997 [==============================] - 5s 465us/sample - loss: 0.6281 - accuracy: 0.7966\n",
      "Epoch 18/30\n",
      "9997/9997 [==============================] - 5s 484us/sample - loss: 0.5401 - accuracy: 0.8209\n",
      "Epoch 19/30\n",
      "9997/9997 [==============================] - 5s 513us/sample - loss: 0.4715 - accuracy: 0.8490\n",
      "Epoch 20/30\n",
      "9997/9997 [==============================] - 5s 462us/sample - loss: 0.4365 - accuracy: 0.8551\n",
      "Epoch 21/30\n",
      "9997/9997 [==============================] - 5s 476us/sample - loss: 0.3950 - accuracy: 0.8707\n",
      "Epoch 22/30\n",
      "9997/9997 [==============================] - 5s 464us/sample - loss: 0.3717 - accuracy: 0.8770\n",
      "Epoch 23/30\n",
      "9997/9997 [==============================] - 5s 455us/sample - loss: 0.4072 - accuracy: 0.8669\n",
      "Epoch 24/30\n",
      "9997/9997 [==============================] - 5s 477us/sample - loss: 0.3497 - accuracy: 0.8868\n",
      "Epoch 25/30\n",
      "9997/9997 [==============================] - 5s 474us/sample - loss: 0.3209 - accuracy: 0.8946\n",
      "Epoch 26/30\n",
      "9997/9997 [==============================] - 4s 446us/sample - loss: 0.3360 - accuracy: 0.8877\n",
      "Epoch 27/30\n",
      "9997/9997 [==============================] - 4s 444us/sample - loss: 0.3426 - accuracy: 0.8860\n",
      "Epoch 28/30\n",
      "9997/9997 [==============================] - 5s 473us/sample - loss: 0.2909 - accuracy: 0.9063\n",
      "Epoch 29/30\n",
      "9997/9997 [==============================] - 6s 559us/sample - loss: 0.2923 - accuracy: 0.9044\n",
      "Epoch 30/30\n",
      "9997/9997 [==============================] - 6s 550us/sample - loss: 0.3179 - accuracy: 0.8973\n"
     ]
    }
   ],
   "source": [
    "'''\n",
    "The 'fit' function is how the model is trained by using a set number of 'epochs'. \n",
    "'''\n",
    "\n",
    "history = model.fit(x_train,y_train, epochs=30, verbose=1)"
   ]
  },
  {
   "cell_type": "code",
   "execution_count": 8,
   "metadata": {},
   "outputs": [
    {
     "data": {
      "image/png": "[encoded data removed]",
      "text/plain": [
       "<Figure size 432x288 with 1 Axes>"
      ]
     },
     "metadata": {
      "needs_background": "light"
     },
     "output_type": "display_data"
    },
    {
     "data": {
      "image/png": "[encoded data removed]",
      "text/plain": [
       "<Figure size 432x288 with 1 Axes>"
      ]
     },
     "metadata": {
      "needs_background": "light"
     },
     "output_type": "display_data"
    }
   ],
   "source": [
    "'''\n",
    "Here is where both the training accuracy and the training loss are shown in a line graph form. As one can see, each value\n",
    "metric is doing what it should with the training accuracy growing after each epoch and the training loss decreasing\n",
    "after each epoch\n",
    "'''\n",
    "\n",
    "acc = history.history['accuracy']\n",
    "loss = history.history['loss']\n",
    "\n",
    "epochs = range(len(acc))\n",
    "\n",
    "plt.plot(epochs, acc, 'b', label='Training accuracy')\n",
    "plt.title('Training accuracy')\n",
    "\n",
    "plt.figure()\n",
    "\n",
    "plt.plot(epochs, loss, 'b', label='Training Loss')\n",
    "plt.title('Training loss')\n",
    "plt.legend()\n",
    "\n",
    "plt.show()"
   ]
  },
  {
   "cell_type": "code",
   "execution_count": 9,
   "metadata": {},
   "outputs": [
    {
     "name": "stdout",
     "output_type": "stream",
     "text": [
      "Validation loss: 5.205393154270298\n",
      "Validation accuracy: 0.3174174\n",
      "Test loss: 4.9510669175569\n",
      "Test accuracy: 0.33483484\n"
     ]
    }
   ],
   "source": [
    "'''\n",
    "Here the accuracy of both the validation and test sets are calculated and shown. Unfortunately both end up having a low\n",
    "accuracy score. This may be due to not doing enough training in the 'fit' function or because I didn't\n",
    "use the entire 'shakespeare' dataset\n",
    "'''\n",
    "\n",
    "\n",
    "val_eval = model.evaluate(x_dev, y_dev, verbose=0)\n",
    "print('Validation loss:', val_eval[0])\n",
    "print('Validation accuracy:', val_eval[1])\n",
    "\n",
    "\n",
    "test_eval = model.evaluate(x_test, y_test, verbose=0)\n",
    "print('Test loss:', test_eval[0])\n",
    "print('Test accuracy:', test_eval[1])"
   ]
  },
  {
   "cell_type": "code",
   "execution_count": 12,
   "metadata": {},
   "outputs": [
    {
     "name": "stdout",
     "output_type": "stream",
     "text": [
      "Model: \"sequential_2\"\n",
      "_________________________________________________________________\n",
      "Layer (type)                 Output Shape              Param #   \n",
      "=================================================================\n",
      "lstm_1 (LSTM)                (None, 10, 256)           343040    \n",
      "_________________________________________________________________\n",
      "lstm_2 (LSTM)                (None, 256)               525312    \n",
      "_________________________________________________________________\n",
      "dense_6 (Dense)              (None, 128)               32896     \n",
      "_________________________________________________________________\n",
      "dense_7 (Dense)              (None, 128)               16512     \n",
      "_________________________________________________________________\n",
      "dense_8 (Dense)              (None, 78)                10062     \n",
      "=================================================================\n",
      "Total params: 927,822\n",
      "Trainable params: 927,822\n",
      "Non-trainable params: 0\n",
      "_________________________________________________________________\n"
     ]
    }
   ],
   "source": [
    "'''\n",
    "Now we begin part 2 of Task 1 of the HW. In this model I will be using the LSTM structure instead of the RNN. And to make\n",
    "the comparisons as fair as possible I used the exact same model structure as with the RNN model.\n",
    "'''\n",
    "\n",
    "\n",
    "model = Sequential()\n",
    "model.add(LSTM(units=256, input_shape=(10,len(vocab)), activation=\"relu\",return_sequences=True))\n",
    "model.add(LSTM(256))\n",
    "model.add(Dense(128,activation='relu'))\n",
    "model.add(Dense(128,activation='relu'))\n",
    "model.add(Dense(len(vocab), activation='softmax'))\n",
    "\n",
    "model.compile(loss='categorical_crossentropy', optimizer='adam', metrics=['accuracy'])\n",
    "model.summary()\n",
    "\n"
   ]
  },
  {
   "cell_type": "code",
   "execution_count": 13,
   "metadata": {},
   "outputs": [
    {
     "name": "stdout",
     "output_type": "stream",
     "text": [
      "Train on 9997 samples\n",
      "Epoch 1/30\n",
      "9997/9997 [==============================] - 25s 3ms/sample - loss: 3.3028 - accuracy: 0.1467\n",
      "Epoch 2/30\n",
      "9997/9997 [==============================] - 24s 2ms/sample - loss: 2.9442 - accuracy: 0.2067\n",
      "Epoch 3/30\n",
      "9997/9997 [==============================] - 25s 3ms/sample - loss: 2.5118 - accuracy: 0.2944\n",
      "Epoch 4/30\n",
      "9997/9997 [==============================] - 24s 2ms/sample - loss: 2.3673 - accuracy: 0.3272\n",
      "Epoch 5/30\n",
      "9997/9997 [==============================] - 23s 2ms/sample - loss: 2.2646 - accuracy: 0.3460\n",
      "Epoch 6/30\n",
      "9997/9997 [==============================] - 23s 2ms/sample - loss: 2.1907 - accuracy: 0.3598\n",
      "Epoch 7/30\n",
      "9997/9997 [==============================] - 24s 2ms/sample - loss: 2.1299 - accuracy: 0.3764\n",
      "Epoch 8/30\n",
      "9997/9997 [==============================] - 24s 2ms/sample - loss: 2.0617 - accuracy: 0.3872\n",
      "Epoch 9/30\n",
      "9997/9997 [==============================] - 24s 2ms/sample - loss: 1.9883 - accuracy: 0.4121\n",
      "Epoch 10/30\n",
      "9997/9997 [==============================] - 24s 2ms/sample - loss: 1.9234 - accuracy: 0.4254\n",
      "Epoch 11/30\n",
      "9997/9997 [==============================] - 24s 2ms/sample - loss: 1.8403 - accuracy: 0.4444\n",
      "Epoch 12/30\n",
      "9997/9997 [==============================] - 24s 2ms/sample - loss: 1.7577 - accuracy: 0.4663\n",
      "Epoch 13/30\n",
      "9997/9997 [==============================] - 24s 2ms/sample - loss: 1.6529 - accuracy: 0.4947\n",
      "Epoch 14/30\n",
      "9997/9997 [==============================] - 24s 2ms/sample - loss: 1.5419 - accuracy: 0.5231\n",
      "Epoch 15/30\n",
      "9997/9997 [==============================] - 24s 2ms/sample - loss: 1.4186 - accuracy: 0.5566\n",
      "Epoch 16/30\n",
      "9997/9997 [==============================] - 25s 3ms/sample - loss: 1.2739 - accuracy: 0.5960\n",
      "Epoch 17/30\n",
      "9997/9997 [==============================] - 26s 3ms/sample - loss: 1.1378 - accuracy: 0.6370\n",
      "Epoch 18/30\n",
      "9997/9997 [==============================] - 26s 3ms/sample - loss: 0.9767 - accuracy: 0.6882\n",
      "Epoch 19/30\n",
      "9997/9997 [==============================] - 24s 2ms/sample - loss: 0.8282 - accuracy: 0.7376\n",
      "Epoch 20/30\n",
      "9997/9997 [==============================] - 25s 2ms/sample - loss: 0.6642 - accuracy: 0.7892\n",
      "Epoch 21/30\n",
      "9997/9997 [==============================] - 23s 2ms/sample - loss: 0.5389 - accuracy: 0.8295\n",
      "Epoch 22/30\n",
      "9997/9997 [==============================] - 23s 2ms/sample - loss: 0.4091 - accuracy: 0.8732\n",
      "Epoch 23/30\n",
      "9997/9997 [==============================] - 23s 2ms/sample - loss: 0.3384 - accuracy: 0.8969\n",
      "Epoch 24/30\n",
      "9997/9997 [==============================] - 22s 2ms/sample - loss: 0.2571 - accuracy: 0.9260\n",
      "Epoch 25/30\n",
      "9997/9997 [==============================] - 24s 2ms/sample - loss: 0.2309 - accuracy: 0.9328\n",
      "Epoch 26/30\n",
      "9997/9997 [==============================] - 24s 2ms/sample - loss: 0.2094 - accuracy: 0.9360\n",
      "Epoch 27/30\n",
      "9997/9997 [==============================] - 24s 2ms/sample - loss: 0.2020 - accuracy: 0.9397\n",
      "Epoch 28/30\n",
      "9997/9997 [==============================] - 24s 2ms/sample - loss: 0.1473 - accuracy: 0.9600\n",
      "Epoch 29/30\n",
      "9997/9997 [==============================] - 22s 2ms/sample - loss: 0.1494 - accuracy: 0.9575\n",
      "Epoch 30/30\n",
      "9997/9997 [==============================] - 22s 2ms/sample - loss: 0.1063 - accuracy: 0.9726\n"
     ]
    }
   ],
   "source": [
    "history = model.fit(x_train,y_train, epochs=30, verbose=1)"
   ]
  },
  {
   "cell_type": "code",
   "execution_count": 14,
   "metadata": {},
   "outputs": [
    {
     "data": {
      "image/png": "[encoded data removed]",
      "text/plain": [
       "<Figure size 432x288 with 1 Axes>"
      ]
     },
     "metadata": {
      "needs_background": "light"
     },
     "output_type": "display_data"
    },
    {
     "data": {
      "image/png": "[encoded data removed]",
      "text/plain": [
       "<Figure size 432x288 with 1 Axes>"
      ]
     },
     "metadata": {
      "needs_background": "light"
     },
     "output_type": "display_data"
    }
   ],
   "source": [
    "acc = history.history['accuracy']\n",
    "loss = history.history['loss']\n",
    "\n",
    "epochs = range(len(acc))\n",
    "\n",
    "plt.plot(epochs, acc, 'b', label='Training accuracy')\n",
    "plt.title('Training accuracy')\n",
    "\n",
    "plt.figure()\n",
    "\n",
    "plt.plot(epochs, loss, 'b', label='Training Loss')\n",
    "plt.title('Training loss')\n",
    "plt.legend()\n",
    "\n",
    "plt.show()"
   ]
  },
  {
   "cell_type": "code",
   "execution_count": 15,
   "metadata": {},
   "outputs": [
    {
     "name": "stdout",
     "output_type": "stream",
     "text": [
      "Validation loss: 5.821508167312668\n",
      "Validation accuracy: 0.34414414\n",
      "Test loss: 5.694698528770928\n",
      "Test accuracy: 0.35255256\n"
     ]
    }
   ],
   "source": [
    "val_eval = model.evaluate(x_dev, y_dev, verbose=0)\n",
    "print('Validation loss:', val_eval[0])\n",
    "print('Validation accuracy:', val_eval[1])\n",
    "\n",
    "\n",
    "test_eval = model.evaluate(x_test, y_test, verbose=0)\n",
    "print('Test loss:', test_eval[0])\n",
    "print('Test accuracy:', test_eval[1])"
   ]
  },
  {
   "cell_type": "code",
   "execution_count": null,
   "metadata": {},
   "outputs": [],
   "source": [
    "'''\n",
    "Based on the results the LSTM model seems to perform better than the RNN model. Though that is in terms of accuracy.\n",
    "The LSTM model still took longer to train than it did for the RNN model despite using the same data and method of training.\n",
    "Though that may be because of my computer. As for the accuracy result, this is most likely because of LSTM's \"memory\"\n",
    "ability, allowing it to carry information throughout the process regardless of when the information was received during\n",
    "the process\n",
    "'''"
   ]
  }
 ],
 "metadata": {
  "kernelspec": {
   "display_name": "Python 3",
   "language": "python",
   "name": "python3"
  },
  "language_info": {
   "codemirror_mode": {
    "name": "ipython",
    "version": 3
   },
   "file_extension": ".py",
   "mimetype": "text/x-python",
   "name": "python",
   "nbconvert_exporter": "python",
   "pygments_lexer": "ipython3",
   "version": "3.7.4"
  }
 },
 "nbformat": 4,
 "nbformat_minor": 2
}
